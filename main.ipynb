{
 "cells": [
  {
   "cell_type": "code",
   "execution_count": 1,
   "id": "9d4d612e-a853-4b9d-a08b-640ffc5f2174",
   "metadata": {},
   "outputs": [
    {
     "name": "stdout",
     "output_type": "stream",
     "text": [
      "Tensorflow version: 2.6.0\n"
     ]
    }
   ],
   "source": [
    "# !conda install python-utils\n",
    "\n",
    "\n",
    "import numpy as np\n",
    "import matplotlib.pyplot as plt\n",
    "# import utils\n",
    "import os\n",
    "%matplotlib inline\n",
    "\n",
    "from keras.preprocessing.image import ImageDataGenerator\n",
    "from keras.layers import Dense, Input, Dropout,Flatten, Conv2D\n",
    "from keras.layers import BatchNormalization, Activation, MaxPooling2D\n",
    "from keras.models import Model, Sequential\n",
    "from tensorflow.keras.optimizers import Adam\n",
    "from keras.callbacks import ModelCheckpoint, ReduceLROnPlateau\n",
    "\n",
    "# from keras.utils import plot_model\n",
    "from tensorflow.keras.utils import plot_model\n",
    "\n",
    "from IPython.display import SVG, Image\n",
    "import tensorflow as tf\n",
    "\n",
    "print(\"Tensorflow version:\", tf.__version__)"
   ]
  },
  {
   "cell_type": "code",
   "execution_count": 2,
   "id": "208b668d-fad3-42f8-b0cf-be21e55736c7",
   "metadata": {},
   "outputs": [],
   "source": [
    "# !pip install tensorflow"
   ]
  },
  {
   "cell_type": "code",
   "execution_count": 3,
   "id": "8f82c385-6742-489e-93d8-af85f6d9e9db",
   "metadata": {},
   "outputs": [],
   "source": [
    "root_dir = \"C:\\\\MANOJ\\\\Academic\\\\USF\\\\Courses\\\\6_DSP\\\\ML_Proj\\\\GestureRecognition_Dataset\\\\\""
   ]
  },
  {
   "cell_type": "code",
   "execution_count": 4,
   "id": "c0075ef2-a9f3-4aa8-a1d1-f807449eaa75",
   "metadata": {},
   "outputs": [
    {
     "name": "stdout",
     "output_type": "stream",
     "text": [
      "200 five images\n",
      "200 four images\n",
      "200 one images\n",
      "200 three images\n",
      "200 two images\n",
      "200 zero images\n"
     ]
    }
   ],
   "source": [
    "train_dataset  = root_dir + 'train\\\\'\n",
    "test_dataset  = root_dir + 'test\\\\'\n",
    "\n",
    "\n",
    "for expression in os.listdir(train_dataset):\n",
    "    print(str(len(os.listdir(train_dataset+expression)))+\" \"+expression+' images')"
   ]
  },
  {
   "cell_type": "code",
   "execution_count": 5,
   "id": "6e68afd0-388e-461f-90e8-640632e883e9",
   "metadata": {},
   "outputs": [
    {
     "name": "stdout",
     "output_type": "stream",
     "text": [
      "Found 1200 images belonging to 6 classes.\n",
      "Found 360 images belonging to 6 classes.\n"
     ]
    }
   ],
   "source": [
    "img_size=64\n",
    "batch_size=64\n",
    "\n",
    "datagen_train=ImageDataGenerator(horizontal_flip=True)\n",
    "train_generator=datagen_train.flow_from_directory(train_dataset, target_size=(img_size,img_size), color_mode='grayscale', batch_size=batch_size, class_mode='categorical', shuffle=True)\n",
    "\n",
    "datagen_validation=ImageDataGenerator(horizontal_flip=True)\n",
    "validation_generator=datagen_train.flow_from_directory(test_dataset, target_size=(img_size,img_size), color_mode='grayscale', batch_size=batch_size, class_mode='categorical', shuffle=True)"
   ]
  },
  {
   "cell_type": "code",
   "execution_count": 6,
   "id": "55b91ec5-1fd5-4588-b111-67a40baa24ca",
   "metadata": {},
   "outputs": [
    {
     "name": "stdout",
     "output_type": "stream",
     "text": [
      "Model: \"sequential\"\n",
      "_________________________________________________________________\n",
      "Layer (type)                 Output Shape              Param #   \n",
      "=================================================================\n",
      "conv2d (Conv2D)              (None, 64, 64, 64)        640       \n",
      "_________________________________________________________________\n",
      "batch_normalization (BatchNo (None, 64, 64, 64)        256       \n",
      "_________________________________________________________________\n",
      "activation (Activation)      (None, 64, 64, 64)        0         \n",
      "_________________________________________________________________\n",
      "max_pooling2d (MaxPooling2D) (None, 32, 32, 64)        0         \n",
      "_________________________________________________________________\n",
      "dropout (Dropout)            (None, 32, 32, 64)        0         \n",
      "_________________________________________________________________\n",
      "conv2d_1 (Conv2D)            (None, 32, 32, 128)       204928    \n",
      "_________________________________________________________________\n",
      "batch_normalization_1 (Batch (None, 32, 32, 128)       512       \n",
      "_________________________________________________________________\n",
      "activation_1 (Activation)    (None, 32, 32, 128)       0         \n",
      "_________________________________________________________________\n",
      "max_pooling2d_1 (MaxPooling2 (None, 16, 16, 128)       0         \n",
      "_________________________________________________________________\n",
      "dropout_1 (Dropout)          (None, 16, 16, 128)       0         \n",
      "_________________________________________________________________\n",
      "conv2d_2 (Conv2D)            (None, 16, 16, 512)       590336    \n",
      "_________________________________________________________________\n",
      "batch_normalization_2 (Batch (None, 16, 16, 512)       2048      \n",
      "_________________________________________________________________\n",
      "activation_2 (Activation)    (None, 16, 16, 512)       0         \n",
      "_________________________________________________________________\n",
      "max_pooling2d_2 (MaxPooling2 (None, 8, 8, 512)         0         \n",
      "_________________________________________________________________\n",
      "dropout_2 (Dropout)          (None, 8, 8, 512)         0         \n",
      "_________________________________________________________________\n",
      "conv2d_3 (Conv2D)            (None, 8, 8, 512)         2359808   \n",
      "_________________________________________________________________\n",
      "batch_normalization_3 (Batch (None, 8, 8, 512)         2048      \n",
      "_________________________________________________________________\n",
      "activation_3 (Activation)    (None, 8, 8, 512)         0         \n",
      "_________________________________________________________________\n",
      "max_pooling2d_3 (MaxPooling2 (None, 4, 4, 512)         0         \n",
      "_________________________________________________________________\n",
      "dropout_3 (Dropout)          (None, 4, 4, 512)         0         \n",
      "_________________________________________________________________\n",
      "flatten (Flatten)            (None, 8192)              0         \n",
      "_________________________________________________________________\n",
      "dense (Dense)                (None, 256)               2097408   \n",
      "_________________________________________________________________\n",
      "batch_normalization_4 (Batch (None, 256)               1024      \n",
      "_________________________________________________________________\n",
      "activation_4 (Activation)    (None, 256)               0         \n",
      "_________________________________________________________________\n",
      "dropout_4 (Dropout)          (None, 256)               0         \n",
      "_________________________________________________________________\n",
      "dense_1 (Dense)              (None, 512)               131584    \n",
      "_________________________________________________________________\n",
      "batch_normalization_5 (Batch (None, 512)               2048      \n",
      "_________________________________________________________________\n",
      "activation_5 (Activation)    (None, 512)               0         \n",
      "_________________________________________________________________\n",
      "dropout_5 (Dropout)          (None, 512)               0         \n",
      "_________________________________________________________________\n",
      "dense_2 (Dense)              (None, 6)                 3078      \n",
      "=================================================================\n",
      "Total params: 5,395,718\n",
      "Trainable params: 5,391,750\n",
      "Non-trainable params: 3,968\n",
      "_________________________________________________________________\n"
     ]
    },
    {
     "name": "stderr",
     "output_type": "stream",
     "text": [
      "C:\\Users\\manoj\\anaconda3_1\\lib\\site-packages\\keras\\optimizer_v2\\optimizer_v2.py:355: UserWarning: The `lr` argument is deprecated, use `learning_rate` instead.\n",
      "  warnings.warn(\n"
     ]
    }
   ],
   "source": [
    "model=Sequential()\n",
    "\n",
    "#conv-1\n",
    "model.add(Conv2D(64,(3,3),padding='same',input_shape=(64,64,1)))\n",
    "model.add(BatchNormalization())\n",
    "model.add(Activation('relu'))\n",
    "model.add(MaxPooling2D(pool_size=(2,2)))\n",
    "model.add(Dropout(0.25))\n",
    "\n",
    "#2 -conv layer\n",
    "model.add(Conv2D(128,(5,5),padding='same'))\n",
    "model.add(BatchNormalization())\n",
    "model.add(Activation('relu'))\n",
    "model.add(MaxPooling2D(pool_size=(2,2)))\n",
    "model.add(Dropout(0.25))\n",
    "\n",
    "#3 -conv layer\n",
    "model.add(Conv2D(512,(3,3),padding='same'))\n",
    "model.add(BatchNormalization())\n",
    "model.add(Activation('relu'))\n",
    "model.add(MaxPooling2D(pool_size=(2,2)))\n",
    "model.add(Dropout(0.25))\n",
    "\n",
    "#4 -conv layer\n",
    "model.add(Conv2D(512,(3,3),padding='same'))\n",
    "model.add(BatchNormalization())\n",
    "model.add(Activation('relu'))\n",
    "model.add(MaxPooling2D(pool_size=(2,2)))\n",
    "model.add(Dropout(0.25))\n",
    "model.add(Flatten())\n",
    "model.add(Dense(256))\n",
    "model.add(BatchNormalization())\n",
    "model.add(Activation('relu'))\n",
    "model.add(Dropout(0.25))\n",
    "model.add(Dense(512))\n",
    "model.add(BatchNormalization())\n",
    "model.add(Activation('relu'))\n",
    "model.add(Dropout(0.25))\n",
    "model.add(Dense(6,activation='softmax'))\n",
    "opt=Adam(lr=0.0005)\n",
    "\n",
    "#lr-learning rate\n",
    "model.compile(optimizer=opt,loss='categorical_crossentropy',metrics=['accuracy'])\n",
    "model.summary()"
   ]
  },
  {
   "cell_type": "code",
   "execution_count": 7,
   "id": "e7a092df-9a56-4192-b268-59351eb922d5",
   "metadata": {},
   "outputs": [
    {
     "name": "stdout",
     "output_type": "stream",
     "text": [
      "Epoch 1/5\n",
      "18/18 [==============================] - 39s 2s/step - loss: 1.1029 - accuracy: 0.5854 - val_loss: 107.6167 - val_accuracy: 0.1594\n",
      "Epoch 2/5\n",
      "18/18 [==============================] - 37s 2s/step - loss: 0.3718 - accuracy: 0.8706 - val_loss: 104.5718 - val_accuracy: 0.1500\n",
      "Epoch 3/5\n",
      "18/18 [==============================] - 34s 2s/step - loss: 0.1819 - accuracy: 0.9428 - val_loss: 63.9842 - val_accuracy: 0.1750\n",
      "Epoch 4/5\n",
      "18/18 [==============================] - 35s 2s/step - loss: 0.1116 - accuracy: 0.9674 - val_loss: 39.7107 - val_accuracy: 0.1625\n",
      "Epoch 5/5\n",
      "18/18 [==============================] - 36s 2s/step - loss: 0.0845 - accuracy: 0.9727 - val_loss: 23.1874 - val_accuracy: 0.1719\n"
     ]
    },
    {
     "data": {
      "text/plain": [
       "'\\nEpoch 1/15\\n18/18 [==============================] - 28s 2s/step - loss: 1.1204 - accuracy: 0.6039 - val_loss: 78.4618 - val_accuracy: 0.1531\\nEpoch 2/15\\n18/18 [==============================] - 27s 1s/step - loss: 0.3706 - accuracy: 0.8715 - val_loss: 90.9165 - val_accuracy: 0.1781\\nEpoch 3/15\\n18/18 [==============================] - 28s 2s/step - loss: 0.1880 - accuracy: 0.9498 - val_loss: 66.2141 - val_accuracy: 0.1625\\nEpoch 4/15\\n18/18 [==============================] - 27s 2s/step - loss: 0.1281 - accuracy: 0.9630 - val_loss: 39.4961 - val_accuracy: 0.1594\\nEpoch 5/15\\n18/18 [==============================] - 27s 1s/step - loss: 0.0844 - accuracy: 0.9798 - val_loss: 26.3373 - val_accuracy: 0.1625\\nEpoch 6/15\\n18/18 [==============================] - 27s 1s/step - loss: 0.0630 - accuracy: 0.9886 - val_loss: 15.9882 - val_accuracy: 0.1656\\nEpoch 7/15\\n18/18 [==============================] - 29s 2s/step - loss: 0.0572 - accuracy: 0.9877 - val_loss: 5.4052 - val_accuracy: 0.1656\\nEpoch 8/15\\n18/18 [==============================] - 27s 2s/step - loss: 0.0506 - accuracy: 0.9877 - val_loss: 1.9299 - val_accuracy: 0.6313\\nEpoch 9/15\\n18/18 [==============================] - 27s 2s/step - loss: 0.0532 - accuracy: 0.9859 - val_loss: 1.3187 - val_accuracy: 0.7094\\nEpoch 10/15\\n18/18 [==============================] - 27s 2s/step - loss: 0.0391 - accuracy: 0.9886 - val_loss: 1.2427 - val_accuracy: 0.7344\\nEpoch 11/15\\n18/18 [==============================] - 27s 2s/step - loss: 0.0292 - accuracy: 0.9930 - val_loss: 0.5980 - val_accuracy: 0.8344\\nEpoch 12/15\\n18/18 [==============================] - 28s 2s/step - loss: 0.0222 - accuracy: 0.9965 - val_loss: 1.0936 - val_accuracy: 0.7406\\nEpoch 13/15\\n18/18 [==============================] - 27s 2s/step - loss: 0.0224 - accuracy: 0.9947 - val_loss: 1.4277 - val_accuracy: 0.6875\\nEpoch 14/15\\n18/18 [==============================] - 27s 1s/step - loss: 0.0126 - accuracy: 0.9974 - val_loss: 1.6736 - val_accuracy: 0.6313\\nEpoch 15/15\\n18/18 [==============================] - 27s 2s/step - loss: 0.0154 - accuracy: 0.9965 - val_loss: 1.8759 - val_accuracy: 0.6812\\n'"
      ]
     },
     "execution_count": 7,
     "metadata": {},
     "output_type": "execute_result"
    }
   ],
   "source": [
    "# Training of model-\n",
    "\n",
    "ephocs=5\n",
    "steps_per_epoch=train_generator.n//train_generator.batch_size\n",
    "steps_per_epoch\n",
    "validation_steps=validation_generator.n//validation_generator.batch_size\n",
    "validation_steps\n",
    "history=model.fit(\n",
    "    x=train_generator,\n",
    "    steps_per_epoch=steps_per_epoch,\n",
    "    epochs=ephocs,\n",
    "    validation_data=validation_generator,\n",
    "    validation_steps=validation_steps,\n",
    " #   callbacks=callbacks\n",
    ")\n",
    "model.save('hand_gesture.h5')\n",
    "\n",
    "'''\n",
    "Epoch 1/15\n",
    "18/18 [==============================] - 28s 2s/step - loss: 1.1204 - accuracy: 0.6039 - val_loss: 78.4618 - val_accuracy: 0.1531\n",
    "Epoch 2/15\n",
    "18/18 [==============================] - 27s 1s/step - loss: 0.3706 - accuracy: 0.8715 - val_loss: 90.9165 - val_accuracy: 0.1781\n",
    "Epoch 3/15\n",
    "18/18 [==============================] - 28s 2s/step - loss: 0.1880 - accuracy: 0.9498 - val_loss: 66.2141 - val_accuracy: 0.1625\n",
    "Epoch 4/15\n",
    "18/18 [==============================] - 27s 2s/step - loss: 0.1281 - accuracy: 0.9630 - val_loss: 39.4961 - val_accuracy: 0.1594\n",
    "Epoch 5/15\n",
    "18/18 [==============================] - 27s 1s/step - loss: 0.0844 - accuracy: 0.9798 - val_loss: 26.3373 - val_accuracy: 0.1625\n",
    "Epoch 6/15\n",
    "18/18 [==============================] - 27s 1s/step - loss: 0.0630 - accuracy: 0.9886 - val_loss: 15.9882 - val_accuracy: 0.1656\n",
    "Epoch 7/15\n",
    "18/18 [==============================] - 29s 2s/step - loss: 0.0572 - accuracy: 0.9877 - val_loss: 5.4052 - val_accuracy: 0.1656\n",
    "Epoch 8/15\n",
    "18/18 [==============================] - 27s 2s/step - loss: 0.0506 - accuracy: 0.9877 - val_loss: 1.9299 - val_accuracy: 0.6313\n",
    "Epoch 9/15\n",
    "18/18 [==============================] - 27s 2s/step - loss: 0.0532 - accuracy: 0.9859 - val_loss: 1.3187 - val_accuracy: 0.7094\n",
    "Epoch 10/15\n",
    "18/18 [==============================] - 27s 2s/step - loss: 0.0391 - accuracy: 0.9886 - val_loss: 1.2427 - val_accuracy: 0.7344\n",
    "Epoch 11/15\n",
    "18/18 [==============================] - 27s 2s/step - loss: 0.0292 - accuracy: 0.9930 - val_loss: 0.5980 - val_accuracy: 0.8344\n",
    "Epoch 12/15\n",
    "18/18 [==============================] - 28s 2s/step - loss: 0.0222 - accuracy: 0.9965 - val_loss: 1.0936 - val_accuracy: 0.7406\n",
    "Epoch 13/15\n",
    "18/18 [==============================] - 27s 2s/step - loss: 0.0224 - accuracy: 0.9947 - val_loss: 1.4277 - val_accuracy: 0.6875\n",
    "Epoch 14/15\n",
    "18/18 [==============================] - 27s 1s/step - loss: 0.0126 - accuracy: 0.9974 - val_loss: 1.6736 - val_accuracy: 0.6313\n",
    "Epoch 15/15\n",
    "18/18 [==============================] - 27s 2s/step - loss: 0.0154 - accuracy: 0.9965 - val_loss: 1.8759 - val_accuracy: 0.6812\n",
    "'''"
   ]
  },
  {
   "cell_type": "code",
   "execution_count": 8,
   "id": "d25d1754-638e-495d-a8c8-7e05066b9405",
   "metadata": {},
   "outputs": [
    {
     "name": "stdout",
     "output_type": "stream",
     "text": [
      "Model: \"sequential\"\n",
      "_________________________________________________________________\n",
      "Layer (type)                 Output Shape              Param #   \n",
      "=================================================================\n",
      "conv2d (Conv2D)              (None, 64, 64, 64)        640       \n",
      "_________________________________________________________________\n",
      "batch_normalization (BatchNo (None, 64, 64, 64)        256       \n",
      "_________________________________________________________________\n",
      "activation (Activation)      (None, 64, 64, 64)        0         \n",
      "_________________________________________________________________\n",
      "max_pooling2d (MaxPooling2D) (None, 32, 32, 64)        0         \n",
      "_________________________________________________________________\n",
      "dropout (Dropout)            (None, 32, 32, 64)        0         \n",
      "_________________________________________________________________\n",
      "conv2d_1 (Conv2D)            (None, 32, 32, 128)       204928    \n",
      "_________________________________________________________________\n",
      "batch_normalization_1 (Batch (None, 32, 32, 128)       512       \n",
      "_________________________________________________________________\n",
      "activation_1 (Activation)    (None, 32, 32, 128)       0         \n",
      "_________________________________________________________________\n",
      "max_pooling2d_1 (MaxPooling2 (None, 16, 16, 128)       0         \n",
      "_________________________________________________________________\n",
      "dropout_1 (Dropout)          (None, 16, 16, 128)       0         \n",
      "_________________________________________________________________\n",
      "conv2d_2 (Conv2D)            (None, 16, 16, 512)       590336    \n",
      "_________________________________________________________________\n",
      "batch_normalization_2 (Batch (None, 16, 16, 512)       2048      \n",
      "_________________________________________________________________\n",
      "activation_2 (Activation)    (None, 16, 16, 512)       0         \n",
      "_________________________________________________________________\n",
      "max_pooling2d_2 (MaxPooling2 (None, 8, 8, 512)         0         \n",
      "_________________________________________________________________\n",
      "dropout_2 (Dropout)          (None, 8, 8, 512)         0         \n",
      "_________________________________________________________________\n",
      "conv2d_3 (Conv2D)            (None, 8, 8, 512)         2359808   \n",
      "_________________________________________________________________\n",
      "batch_normalization_3 (Batch (None, 8, 8, 512)         2048      \n",
      "_________________________________________________________________\n",
      "activation_3 (Activation)    (None, 8, 8, 512)         0         \n",
      "_________________________________________________________________\n",
      "max_pooling2d_3 (MaxPooling2 (None, 4, 4, 512)         0         \n",
      "_________________________________________________________________\n",
      "dropout_3 (Dropout)          (None, 4, 4, 512)         0         \n",
      "_________________________________________________________________\n",
      "flatten (Flatten)            (None, 8192)              0         \n",
      "_________________________________________________________________\n",
      "dense (Dense)                (None, 256)               2097408   \n",
      "_________________________________________________________________\n",
      "batch_normalization_4 (Batch (None, 256)               1024      \n",
      "_________________________________________________________________\n",
      "activation_4 (Activation)    (None, 256)               0         \n",
      "_________________________________________________________________\n",
      "dropout_4 (Dropout)          (None, 256)               0         \n",
      "_________________________________________________________________\n",
      "dense_1 (Dense)              (None, 512)               131584    \n",
      "_________________________________________________________________\n",
      "batch_normalization_5 (Batch (None, 512)               2048      \n",
      "_________________________________________________________________\n",
      "activation_5 (Activation)    (None, 512)               0         \n",
      "_________________________________________________________________\n",
      "dropout_5 (Dropout)          (None, 512)               0         \n",
      "_________________________________________________________________\n",
      "dense_2 (Dense)              (None, 6)                 3078      \n",
      "=================================================================\n",
      "Total params: 5,395,718\n",
      "Trainable params: 5,391,750\n",
      "Non-trainable params: 3,968\n",
      "_________________________________________________________________\n"
     ]
    }
   ],
   "source": [
    "model.summary()"
   ]
  },
  {
   "cell_type": "code",
   "execution_count": 9,
   "id": "1a867086-562c-40d6-982e-d9ed05283ef1",
   "metadata": {},
   "outputs": [
    {
     "name": "stdout",
     "output_type": "stream",
     "text": [
      "Found 360 images belonging to 6 classes.\n",
      ">16.667\n"
     ]
    }
   ],
   "source": [
    "datagen_test=ImageDataGenerator(horizontal_flip=True)\n",
    "test_generator=datagen_test.flow_from_directory(test_dataset, target_size=(img_size,img_size), color_mode='grayscale', batch_size=batch_size, class_mode='categorical', shuffle=True)\n",
    "\n",
    "_,acc=model.evaluate(test_generator,verbose=0)\n",
    "\n",
    "print('>%.3f'%(acc*100.0))"
   ]
  },
  {
   "cell_type": "code",
   "execution_count": 1,
   "id": "e78018fd-a42d-4175-940d-86ab0f7eb6b5",
   "metadata": {},
   "outputs": [
    {
     "ename": "NameError",
     "evalue": "name 'test_dataset' is not defined",
     "output_type": "error",
     "traceback": [
      "\u001b[1;31m---------------------------------------------------------------------------\u001b[0m",
      "\u001b[1;31mNameError\u001b[0m                                 Traceback (most recent call last)",
      "\u001b[1;32m<ipython-input-1-efd6c66efde2>\u001b[0m in \u001b[0;36m<module>\u001b[1;34m\u001b[0m\n\u001b[0;32m      5\u001b[0m \u001b[1;32mfrom\u001b[0m \u001b[0mkeras\u001b[0m\u001b[1;33m.\u001b[0m\u001b[0mpreprocessing\u001b[0m \u001b[1;32mimport\u001b[0m \u001b[0mimage\u001b[0m\u001b[1;33m\u001b[0m\u001b[1;33m\u001b[0m\u001b[0m\n\u001b[0;32m      6\u001b[0m \u001b[1;33m\u001b[0m\u001b[0m\n\u001b[1;32m----> 7\u001b[1;33m \u001b[0msample_image\u001b[0m \u001b[1;33m=\u001b[0m \u001b[0mtest_dataset\u001b[0m\u001b[1;33m+\u001b[0m\u001b[1;34m\"five//five301.png\"\u001b[0m\u001b[1;33m\u001b[0m\u001b[1;33m\u001b[0m\u001b[0m\n\u001b[0m\u001b[0;32m      8\u001b[0m \u001b[1;33m\u001b[0m\u001b[0m\n\u001b[0;32m      9\u001b[0m \u001b[0mtest_image\u001b[0m \u001b[1;33m=\u001b[0m \u001b[0mimage\u001b[0m\u001b[1;33m.\u001b[0m\u001b[0mload_img\u001b[0m\u001b[1;33m(\u001b[0m\u001b[0msample_image\u001b[0m\u001b[1;33m,\u001b[0m \u001b[0mtarget_size\u001b[0m \u001b[1;33m=\u001b[0m \u001b[1;33m(\u001b[0m\u001b[1;36m64\u001b[0m\u001b[1;33m,\u001b[0m\u001b[1;36m64\u001b[0m\u001b[1;33m)\u001b[0m\u001b[1;33m,\u001b[0m\u001b[0mcolor_mode\u001b[0m \u001b[1;33m=\u001b[0m \u001b[1;34m\"grayscale\"\u001b[0m\u001b[1;33m)\u001b[0m\u001b[1;33m\u001b[0m\u001b[1;33m\u001b[0m\u001b[0m\n",
      "\u001b[1;31mNameError\u001b[0m: name 'test_dataset' is not defined"
     ]
    }
   ],
   "source": [
    "# Now we take image from our dataset ,give that image to our model and to check whether it is giving a right prediction or not.\n",
    "# so here is the code for that-\n",
    "\n",
    "import numpy as np\n",
    "from keras.preprocessing import image\n",
    "\n",
    "sample_image = test_dataset+\"five//five301.png\"\n",
    "\n",
    "test_image = image.load_img(sample_image, target_size = (64,64),color_mode = \"grayscale\")\n",
    "plt.imshow(test_image)\n",
    "\n",
    "test_image = image.img_to_array(test_image)\n",
    "test_image = np.expand_dims(test_image, axis = 0)\n",
    "\n",
    "result = model.predict(test_image)\n",
    "a=result.argmax()\n",
    "s=train_generator.class_indices\n",
    "        #print(s)\n",
    "name=[]\n",
    "for i in s:\n",
    "    name.append(i)\n",
    "for i in range(len(s)):\n",
    "    if(i==a):\n",
    "        q=name[i]\n",
    "print(q)"
   ]
  },
  {
   "cell_type": "code",
   "execution_count": 11,
   "id": "0a0cc361-f23a-4e2b-b575-178ab2ed1b90",
   "metadata": {},
   "outputs": [],
   "source": [
    "#check that this model is working or live webcam or not.\n",
    "#first we load our model, for that we have written our code-\n",
    "\n",
    "from tensorflow.keras.models import load_model\n",
    "\n",
    "loaded_model=load_model('hand_gesture.h5')"
   ]
  },
  {
   "cell_type": "code",
   "execution_count": 1,
   "id": "d0fea90f-0dcc-4fef-a727-66cbaf5ca59d",
   "metadata": {},
   "outputs": [
    {
     "ename": "NameError",
     "evalue": "name 'loaded_model' is not defined",
     "output_type": "error",
     "traceback": [
      "\u001b[1;31m---------------------------------------------------------------------------\u001b[0m",
      "\u001b[1;31mNameError\u001b[0m                                 Traceback (most recent call last)",
      "\u001b[1;32m<ipython-input-1-9c5cd600fd45>\u001b[0m in \u001b[0;36m<module>\u001b[1;34m\u001b[0m\n\u001b[0;32m     44\u001b[0m \u001b[1;33m\u001b[0m\u001b[0m\n\u001b[0;32m     45\u001b[0m     \u001b[1;31m# Batch of 1\u001b[0m\u001b[1;33m\u001b[0m\u001b[1;33m\u001b[0m\u001b[1;33m\u001b[0m\u001b[0m\n\u001b[1;32m---> 46\u001b[1;33m     \u001b[0mresult\u001b[0m \u001b[1;33m=\u001b[0m \u001b[0mloaded_model\u001b[0m\u001b[1;33m.\u001b[0m\u001b[0mpredict\u001b[0m\u001b[1;33m(\u001b[0m\u001b[0mtest_image\u001b[0m\u001b[1;33m.\u001b[0m\u001b[0mreshape\u001b[0m\u001b[1;33m(\u001b[0m\u001b[1;36m1\u001b[0m\u001b[1;33m,\u001b[0m \u001b[1;36m64\u001b[0m\u001b[1;33m,\u001b[0m \u001b[1;36m64\u001b[0m\u001b[1;33m,\u001b[0m \u001b[1;36m1\u001b[0m\u001b[1;33m)\u001b[0m\u001b[1;33m)\u001b[0m\u001b[1;33m\u001b[0m\u001b[1;33m\u001b[0m\u001b[0m\n\u001b[0m\u001b[0;32m     47\u001b[0m \u001b[1;33m\u001b[0m\u001b[0m\n\u001b[0;32m     48\u001b[0m     prediction = {'FIVE': result[0][0], \n",
      "\u001b[1;31mNameError\u001b[0m: name 'loaded_model' is not defined"
     ]
    }
   ],
   "source": [
    "#Continuous tracking - LIVE TRacking\n",
    "\n",
    "from tensorflow.keras.preprocessing import image\n",
    "import numpy as np\n",
    "import cv2\n",
    "\n",
    "#we are starting our web cam\n",
    "webcam=cv2.VideoCapture(0)\n",
    "cap = cv2.VideoCapture(0)\n",
    "\n",
    "# Category dictionary\n",
    "categories = {0: 'ZERO', 1: 'ONE', 2: 'TWO', 3: 'THREE', 4: 'FOUR', 5: 'FIVE'}\n",
    "s=\"\"\n",
    "d={}\n",
    "p=\"\"\n",
    "count=0\n",
    "\n",
    "while True and count<=100:\n",
    "    \n",
    "    _, frame = cap.read(0) # Change from 0 to 1,2,3 accordingly\n",
    "    # Simulating mirror image\n",
    "    frame = cv2.flip(frame, 1)\n",
    "    \n",
    "    # Got this from collect-data.py\n",
    "    # Coordinates of the ROI\n",
    "    x1 = int(0.5*frame.shape[1])\n",
    "    y1 = 10\n",
    "    x2 = frame.shape[1]-10\n",
    "    y2 = int(0.5*frame.shape[1])\n",
    "    \n",
    "    # Drawing the ROI\n",
    "    # The increment/decrement by 1 is to compensate for the bounding box\n",
    "    cv2.rectangle(frame, (x1-1, y1-1), (x2+1, y2+1), (255,0,0) ,1)\n",
    "    \n",
    "    # Extracting the ROI\n",
    "    roi = frame[y1:y2, x1:x2]\n",
    "    \n",
    "    # Resizing the ROI so it can be fed to the model for prediction\n",
    "    roi = cv2.resize(roi, (64, 64)) \n",
    "    roi = cv2.cvtColor(roi, cv2.COLOR_BGR2GRAY)\n",
    "    _, test_image = cv2.threshold(roi, 120, 255, cv2.THRESH_BINARY)\n",
    "    \n",
    "    cv2.imshow(\"test\", test_image)\n",
    "    \n",
    "    # Batch of 1\n",
    "    result = loaded_model.predict(test_image.reshape(1, 64, 64, 1))\n",
    "    \n",
    "    prediction = {'FIVE': result[0][0], \n",
    "                  'FOUR': result[0][1], \n",
    "                  'ONE': result[0][2],\n",
    "                  'THREE': result[0][3],\n",
    "                  'TWO': result[0][4],\n",
    "                  'ZERO': result[0][5]}\n",
    "    \n",
    "    max_key = max(prediction, key=prediction.get)\n",
    "    cv2.putText(test_image,max_key,(x1,y1),cv2.FONT_HERSHEY_SIMPLEX,1,(255, 0, 0),2) \n",
    "    print(max_key)\n",
    "    cv2.imshow(\"Frame\", frame)\n",
    "    interrupt = cv2.waitKey(2)\n",
    "    \n",
    "    if interrupt & 0xFF == 27: # esc key\n",
    "        break\n",
    "        \n",
    "    count+=1    \n",
    "    \n",
    "cap.release()\n",
    "cv2.destroyAllWindows()"
   ]
  },
  {
   "cell_type": "code",
   "execution_count": null,
   "id": "2caaac1e-bc46-47a9-baf9-abab79d4d473",
   "metadata": {},
   "outputs": [],
   "source": [
    "# !pip install gTTS"
   ]
  },
  {
   "cell_type": "code",
   "execution_count": 19,
   "id": "e96ce452-f28d-4321-b5cb-5f0c6cce4d03",
   "metadata": {},
   "outputs": [
    {
     "data": {
      "text/plain": [
       "0"
      ]
     },
     "execution_count": 19,
     "metadata": {},
     "output_type": "execute_result"
    }
   ],
   "source": [
    "# !pip install gTTS\n",
    "from gtts import gTTS\n",
    "my_text = 'iah ayituhC nahcnaK'\n",
    "language='es'\n",
    "\n",
    "my=gTTS(text=my_text[::-1],lang=language,slow=False)\n",
    "my.save('signtovoice.mp3')\n",
    "\n",
    "import os\n",
    "os.system('signtovoice.mp3')"
   ]
  },
  {
   "cell_type": "code",
   "execution_count": null,
   "id": "6978f8c3-3808-4ef7-a0ae-812759e7d7e1",
   "metadata": {},
   "outputs": [],
   "source": [
    "my_text = 'iah ayituhC nahcnaK'\n",
    "my_text[::-1]"
   ]
  },
  {
   "cell_type": "code",
   "execution_count": null,
   "id": "4ab340a2-7d2c-4bde-adca-45c11c42af34",
   "metadata": {},
   "outputs": [],
   "source": []
  }
 ],
 "metadata": {
  "kernelspec": {
   "display_name": "Python 3",
   "language": "python",
   "name": "python3"
  },
  "language_info": {
   "codemirror_mode": {
    "name": "ipython",
    "version": 3
   },
   "file_extension": ".py",
   "mimetype": "text/x-python",
   "name": "python",
   "nbconvert_exporter": "python",
   "pygments_lexer": "ipython3",
   "version": "3.8.8"
  }
 },
 "nbformat": 4,
 "nbformat_minor": 5
}
