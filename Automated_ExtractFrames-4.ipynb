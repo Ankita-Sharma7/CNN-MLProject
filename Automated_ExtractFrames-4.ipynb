{
 "cells": [
  {
   "cell_type": "code",
   "execution_count": null,
   "id": "8d624c3b-135a-4adf-bfb1-2c6db17dd1ae",
   "metadata": {},
   "outputs": [],
   "source": [
    "import cv2\n",
    "import numpy as np\n",
    "\n",
    "def extract_image_one_fps(chars ,source, iter, env):\n",
    "    vidcap = cv2.VideoCapture(source)\n",
    "    count = 0\n",
    "    root_dir = f'C:\\\\MANOJ\\\\Academic\\\\USF\\\\Courses\\\\6_DSP\\\\ML_Proj\\\\GestureRecognition_Dataset\\\\{env}\\\\{chars}\\\\'\n",
    "    \n",
    "    print(f'{env}....Code Running')\n",
    "    \n",
    "    while count < iter:\n",
    "        vidcap.set(cv2.CAP_PROP_POS_MSEC,(count*1000))      \n",
    "        _ ,image = vidcap.read()\n",
    "        img = cv2.flip(image, 1)\n",
    "        cv2.imshow(f'{chars} - Frame', img)\n",
    "        filename = f'{root_dir}frame_{count}.png'\n",
    "        cv2.imwrite(filename, img)\n",
    "        count+=1\n",
    "    else: \n",
    "        vidcap.release()\n",
    "        # Destroy all the windows\n",
    "        cv2.destroyAllWindows()\n",
    "        print(f'{env}....Execution Completed.')\n",
    "    \n",
    "def run (chars):\n",
    "    extract_image_one_fps(chars, 0, 1000, 'train') #train\n",
    "    extract_image_one_fps(chars, 0, 200, 'test')  #test\n",
    "    "
   ]
  },
  {
   "cell_type": "code",
   "execution_count": null,
   "id": "d8b48852-14c5-42e3-92d7-fe946944bd1d",
   "metadata": {},
   "outputs": [],
   "source": [
    "run('q')  #just change for your character"
   ]
  }
 ],
 "metadata": {
  "kernelspec": {
   "display_name": "Python 3",
   "language": "python",
   "name": "python3"
  },
  "language_info": {
   "codemirror_mode": {
    "name": "ipython",
    "version": 3
   },
   "file_extension": ".py",
   "mimetype": "text/x-python",
   "name": "python",
   "nbconvert_exporter": "python",
   "pygments_lexer": "ipython3",
   "version": "3.8.8"
  }
 },
 "nbformat": 4,
 "nbformat_minor": 5
}
